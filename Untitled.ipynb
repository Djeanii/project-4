{
 "cells": [
  {
   "cell_type": "code",
   "execution_count": 1,
   "id": "d8205476-3ffd-4ced-a274-e89055897185",
   "metadata": {},
   "outputs": [
    {
     "name": "stdout",
     "output_type": "stream",
     "text": [
      "Mean Absolute Error: 831.4375970973234\n",
      "Zip code with most violations: 94110\n"
     ]
    }
   ],
   "source": [
    "# Import necessary libraries\n",
    "import pandas as pd\n",
    "import numpy as np\n",
    "from sklearn.ensemble import RandomForestRegressor\n",
    "from sklearn.model_selection import train_test_split\n",
    "from sklearn.preprocessing import LabelEncoder\n",
    "from sklearn.metrics import mean_absolute_error\n",
    "\n",
    "# Load the dataset\n",
    "data = pd.read_csv('ARCHIVED__Restaurant_Inspection_Scores__2016-2019__20250107desk.csv')\n",
    "\n",
    "# Aggregate violations by zip code\n",
    "violation_counts = data.groupby('business_postal_code')['violation_id'].count().reset_index()\n",
    "violation_counts.columns = ['postal_code', 'violation_count']\n",
    "\n",
    "# Merge with other relevant data (e.g., inspection_score, risk_category)\n",
    "features = data[['business_postal_code', 'inspection_score', 'risk_category', 'inspection_type']].drop_duplicates()\n",
    "\n",
    "# Encode categorical variables\n",
    "le = LabelEncoder()\n",
    "features['inspection_type'] = le.fit_transform(features['inspection_type'])\n",
    "features['risk_category'] = le.fit_transform(features['risk_category'])\n",
    "\n",
    "# Merge violation data with feature set\n",
    "merged_data = pd.merge(features, violation_counts, left_on='business_postal_code', right_on='postal_code')\n",
    "\n",
    "# Prepare data for model training\n",
    "X = merged_data[['inspection_score', 'inspection_type', 'risk_category']]\n",
    "y = merged_data['violation_count']\n",
    "\n",
    "# Split data into training and testing sets\n",
    "X_train, X_test, y_train, y_test = train_test_split(X, y, test_size=0.2, random_state=42)\n",
    "\n",
    "# Initialize Random Forest Regressor\n",
    "rf = RandomForestRegressor(n_estimators=100, max_depth=10, random_state=42)\n",
    "\n",
    "# Train the model\n",
    "rf.fit(X_train, y_train)\n",
    "\n",
    "# Make predictions\n",
    "y_pred = rf.predict(X_test)\n",
    "\n",
    "# Evaluate the model\n",
    "mae = mean_absolute_error(y_test, y_pred)\n",
    "print(f'Mean Absolute Error: {mae}')\n",
    "\n",
    "# Predict the zip code with the most violations\n",
    "predicted_violations = rf.predict(X)\n",
    "\n",
    "# Identify the zip code with the highest predicted violations\n",
    "merged_data['predicted_violations'] = predicted_violations\n",
    "most_violations_zip_code = merged_data.loc[merged_data['predicted_violations'].idxmax()]\n",
    "\n",
    "print(f'Zip code with most violations: {most_violations_zip_code[\"business_postal_code\"]}')"
   ]
  },
  {
   "cell_type": "code",
   "execution_count": null,
   "id": "ff4db9e3-92c7-4a20-8bc6-c9f1323d7a4a",
   "metadata": {},
   "outputs": [],
   "source": []
  }
 ],
 "metadata": {
  "kernelspec": {
   "display_name": "Python 3 (ipykernel)",
   "language": "python",
   "name": "python3"
  },
  "language_info": {
   "codemirror_mode": {
    "name": "ipython",
    "version": 3
   },
   "file_extension": ".py",
   "mimetype": "text/x-python",
   "name": "python",
   "nbconvert_exporter": "python",
   "pygments_lexer": "ipython3",
   "version": "3.12.4"
  }
 },
 "nbformat": 4,
 "nbformat_minor": 5
}
