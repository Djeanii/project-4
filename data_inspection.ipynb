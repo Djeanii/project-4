{
 "cells": [
  {
   "cell_type": "code",
   "execution_count": 2,
   "metadata": {},
   "outputs": [],
   "source": [
    "import pandas as pd"
   ]
  },
  {
   "cell_type": "code",
   "execution_count": 4,
   "metadata": {},
   "outputs": [
    {
     "data": {
      "text/html": [
       "<div>\n",
       "<style scoped>\n",
       "    .dataframe tbody tr th:only-of-type {\n",
       "        vertical-align: middle;\n",
       "    }\n",
       "\n",
       "    .dataframe tbody tr th {\n",
       "        vertical-align: top;\n",
       "    }\n",
       "\n",
       "    .dataframe thead th {\n",
       "        text-align: right;\n",
       "    }\n",
       "</style>\n",
       "<table border=\"1\" class=\"dataframe\">\n",
       "  <thead>\n",
       "    <tr style=\"text-align: right;\">\n",
       "      <th></th>\n",
       "      <th>business_id</th>\n",
       "      <th>business_name</th>\n",
       "      <th>business_address</th>\n",
       "      <th>business_city</th>\n",
       "      <th>business_state</th>\n",
       "      <th>business_postal_code</th>\n",
       "      <th>business_latitude</th>\n",
       "      <th>business_longitude</th>\n",
       "      <th>business_location</th>\n",
       "      <th>business_phone_number</th>\n",
       "      <th>...</th>\n",
       "      <th>inspection_score</th>\n",
       "      <th>inspection_type</th>\n",
       "      <th>violation_id</th>\n",
       "      <th>violation_description</th>\n",
       "      <th>risk_category</th>\n",
       "      <th>Neighborhoods</th>\n",
       "      <th>SF Find Neighborhoods</th>\n",
       "      <th>Current Police Districts</th>\n",
       "      <th>Current Supervisor Districts</th>\n",
       "      <th>Analysis Neighborhoods</th>\n",
       "    </tr>\n",
       "  </thead>\n",
       "  <tbody>\n",
       "    <tr>\n",
       "      <th>0</th>\n",
       "      <td>85936</td>\n",
       "      <td>Laurel Court</td>\n",
       "      <td>950 Mason St</td>\n",
       "      <td>San Francisco</td>\n",
       "      <td>CA</td>\n",
       "      <td>94108</td>\n",
       "      <td>NaN</td>\n",
       "      <td>NaN</td>\n",
       "      <td>NaN</td>\n",
       "      <td>1.415578e+10</td>\n",
       "      <td>...</td>\n",
       "      <td>100.0</td>\n",
       "      <td>Routine - Unscheduled</td>\n",
       "      <td>NaN</td>\n",
       "      <td>NaN</td>\n",
       "      <td>NaN</td>\n",
       "      <td>NaN</td>\n",
       "      <td>NaN</td>\n",
       "      <td>NaN</td>\n",
       "      <td>NaN</td>\n",
       "      <td>NaN</td>\n",
       "    </tr>\n",
       "    <tr>\n",
       "      <th>1</th>\n",
       "      <td>5827</td>\n",
       "      <td>HILLCREST ELEMENTARY SCHOOL</td>\n",
       "      <td>810 SILVER Ave</td>\n",
       "      <td>San Francisco</td>\n",
       "      <td>CA</td>\n",
       "      <td>94134</td>\n",
       "      <td>37.729016</td>\n",
       "      <td>-122.419253</td>\n",
       "      <td>POINT (-122.419253 37.729016)</td>\n",
       "      <td>1.415546e+10</td>\n",
       "      <td>...</td>\n",
       "      <td>NaN</td>\n",
       "      <td>Reinspection/Followup</td>\n",
       "      <td>NaN</td>\n",
       "      <td>NaN</td>\n",
       "      <td>NaN</td>\n",
       "      <td>92.0</td>\n",
       "      <td>92.0</td>\n",
       "      <td>2.0</td>\n",
       "      <td>2.0</td>\n",
       "      <td>7.0</td>\n",
       "    </tr>\n",
       "    <tr>\n",
       "      <th>2</th>\n",
       "      <td>94910</td>\n",
       "      <td>Ike's Kitchen</td>\n",
       "      <td>800 Van Ness Ave</td>\n",
       "      <td>San Francisco</td>\n",
       "      <td>CA</td>\n",
       "      <td>94109</td>\n",
       "      <td>NaN</td>\n",
       "      <td>NaN</td>\n",
       "      <td>NaN</td>\n",
       "      <td>NaN</td>\n",
       "      <td>...</td>\n",
       "      <td>NaN</td>\n",
       "      <td>New Ownership - Followup</td>\n",
       "      <td>NaN</td>\n",
       "      <td>NaN</td>\n",
       "      <td>NaN</td>\n",
       "      <td>NaN</td>\n",
       "      <td>NaN</td>\n",
       "      <td>NaN</td>\n",
       "      <td>NaN</td>\n",
       "      <td>NaN</td>\n",
       "    </tr>\n",
       "    <tr>\n",
       "      <th>3</th>\n",
       "      <td>64667</td>\n",
       "      <td>Jasmine Rae Bakery</td>\n",
       "      <td>1890 Bryant St #309</td>\n",
       "      <td>San Francisco</td>\n",
       "      <td>CA</td>\n",
       "      <td>94110</td>\n",
       "      <td>37.763156</td>\n",
       "      <td>-122.410351</td>\n",
       "      <td>POINT (-122.410351 37.763156)</td>\n",
       "      <td>NaN</td>\n",
       "      <td>...</td>\n",
       "      <td>NaN</td>\n",
       "      <td>Reinspection/Followup</td>\n",
       "      <td>NaN</td>\n",
       "      <td>NaN</td>\n",
       "      <td>NaN</td>\n",
       "      <td>53.0</td>\n",
       "      <td>53.0</td>\n",
       "      <td>3.0</td>\n",
       "      <td>2.0</td>\n",
       "      <td>20.0</td>\n",
       "    </tr>\n",
       "    <tr>\n",
       "      <th>4</th>\n",
       "      <td>97722</td>\n",
       "      <td>THE CHURRO FACTORY</td>\n",
       "      <td>PIER 39  K-01</td>\n",
       "      <td>San Francisco</td>\n",
       "      <td>CA</td>\n",
       "      <td>94133</td>\n",
       "      <td>NaN</td>\n",
       "      <td>NaN</td>\n",
       "      <td>NaN</td>\n",
       "      <td>NaN</td>\n",
       "      <td>...</td>\n",
       "      <td>96.0</td>\n",
       "      <td>Routine - Unscheduled</td>\n",
       "      <td>97722_20181217_103154</td>\n",
       "      <td>Unclean or degraded floors walls or ceilings</td>\n",
       "      <td>Low Risk</td>\n",
       "      <td>NaN</td>\n",
       "      <td>NaN</td>\n",
       "      <td>NaN</td>\n",
       "      <td>NaN</td>\n",
       "      <td>NaN</td>\n",
       "    </tr>\n",
       "  </tbody>\n",
       "</table>\n",
       "<p>5 rows × 22 columns</p>\n",
       "</div>"
      ],
      "text/plain": [
       "   business_id                business_name     business_address  \\\n",
       "0        85936                 Laurel Court         950 Mason St   \n",
       "1         5827  HILLCREST ELEMENTARY SCHOOL       810 SILVER Ave   \n",
       "2        94910                Ike's Kitchen     800 Van Ness Ave   \n",
       "3        64667           Jasmine Rae Bakery  1890 Bryant St #309   \n",
       "4        97722           THE CHURRO FACTORY        PIER 39  K-01   \n",
       "\n",
       "   business_city business_state business_postal_code  business_latitude  \\\n",
       "0  San Francisco             CA                94108                NaN   \n",
       "1  San Francisco             CA                94134          37.729016   \n",
       "2  San Francisco             CA                94109                NaN   \n",
       "3  San Francisco             CA                94110          37.763156   \n",
       "4  San Francisco             CA                94133                NaN   \n",
       "\n",
       "   business_longitude              business_location  business_phone_number  \\\n",
       "0                 NaN                            NaN           1.415578e+10   \n",
       "1         -122.419253  POINT (-122.419253 37.729016)           1.415546e+10   \n",
       "2                 NaN                            NaN                    NaN   \n",
       "3         -122.410351  POINT (-122.410351 37.763156)                    NaN   \n",
       "4                 NaN                            NaN                    NaN   \n",
       "\n",
       "   ... inspection_score           inspection_type           violation_id  \\\n",
       "0  ...            100.0     Routine - Unscheduled                    NaN   \n",
       "1  ...              NaN     Reinspection/Followup                    NaN   \n",
       "2  ...              NaN  New Ownership - Followup                    NaN   \n",
       "3  ...              NaN     Reinspection/Followup                    NaN   \n",
       "4  ...             96.0     Routine - Unscheduled  97722_20181217_103154   \n",
       "\n",
       "                          violation_description risk_category Neighborhoods  \\\n",
       "0                                           NaN           NaN           NaN   \n",
       "1                                           NaN           NaN          92.0   \n",
       "2                                           NaN           NaN           NaN   \n",
       "3                                           NaN           NaN          53.0   \n",
       "4  Unclean or degraded floors walls or ceilings      Low Risk           NaN   \n",
       "\n",
       "  SF Find Neighborhoods  Current Police Districts  \\\n",
       "0                   NaN                       NaN   \n",
       "1                  92.0                       2.0   \n",
       "2                   NaN                       NaN   \n",
       "3                  53.0                       3.0   \n",
       "4                   NaN                       NaN   \n",
       "\n",
       "   Current Supervisor Districts  Analysis Neighborhoods  \n",
       "0                           NaN                     NaN  \n",
       "1                           2.0                     7.0  \n",
       "2                           NaN                     NaN  \n",
       "3                           2.0                    20.0  \n",
       "4                           NaN                     NaN  \n",
       "\n",
       "[5 rows x 22 columns]"
      ]
     },
     "execution_count": 4,
     "metadata": {},
     "output_type": "execute_result"
    }
   ],
   "source": [
    "df = pd.read_csv(\"ARCHIVED__Restaurant_Inspection_Scores__2016-2019__20250104.csv\")\n",
    "df.head()"
   ]
  },
  {
   "cell_type": "code",
   "execution_count": 15,
   "metadata": {},
   "outputs": [
    {
     "name": "stdout",
     "output_type": "stream",
     "text": [
      "<class 'pandas.core.frame.DataFrame'>\n",
      "RangeIndex: 53973 entries, 0 to 53972\n",
      "Data columns (total 22 columns):\n",
      " #   Column                        Non-Null Count  Dtype  \n",
      "---  ------                        --------------  -----  \n",
      " 0   business_id                   53973 non-null  int64  \n",
      " 1   business_name                 53973 non-null  object \n",
      " 2   business_address              53973 non-null  object \n",
      " 3   business_city                 53973 non-null  object \n",
      " 4   business_state                53973 non-null  object \n",
      " 5   business_postal_code          52787 non-null  object \n",
      " 6   business_latitude             27475 non-null  float64\n",
      " 7   business_longitude            27475 non-null  float64\n",
      " 8   business_location             27460 non-null  object \n",
      " 9   business_phone_number         17672 non-null  float64\n",
      " 10  inspection_id                 53973 non-null  object \n",
      " 11  inspection_date               53973 non-null  object \n",
      " 12  inspection_score              39541 non-null  float64\n",
      " 13  inspection_type               53973 non-null  object \n",
      " 14  violation_id                  40253 non-null  object \n",
      " 15  violation_description         40253 non-null  object \n",
      " 16  risk_category                 40253 non-null  object \n",
      " 17  Neighborhoods                 27435 non-null  float64\n",
      " 18  SF Find Neighborhoods         27435 non-null  float64\n",
      " 19  Current Police Districts      27447 non-null  float64\n",
      " 20  Current Supervisor Districts  27447 non-null  float64\n",
      " 21  Analysis Neighborhoods        27447 non-null  float64\n",
      "dtypes: float64(9), int64(1), object(12)\n",
      "memory usage: 9.1+ MB\n"
     ]
    }
   ],
   "source": [
    "# Count total numbr of rows\n",
    "df.info()"
   ]
  },
  {
   "cell_type": "code",
   "execution_count": 8,
   "metadata": {},
   "outputs": [
    {
     "name": "stdout",
     "output_type": "stream",
     "text": [
      "5775\n"
     ]
    }
   ],
   "source": [
    "# Total number of unique business in the data\n",
    "total_business = df['business_name'].nunique()\n",
    "print(total_business)"
   ]
  },
  {
   "cell_type": "code",
   "execution_count": 19,
   "metadata": {},
   "outputs": [
    {
     "name": "stdout",
     "output_type": "stream",
     "text": [
      "62\n"
     ]
    }
   ],
   "source": [
    "# Total number of unique zip codes\n",
    "total_zip_codes = df['business_postal_code'].nunique()\n",
    "print(total_zip_codes)"
   ]
  },
  {
   "cell_type": "code",
   "execution_count": 9,
   "metadata": {},
   "outputs": [
    {
     "name": "stdout",
     "output_type": "stream",
     "text": [
      "inspection_type\n",
      "Routine - Unscheduled                39638\n",
      "Reinspection/Followup                 6718\n",
      "Complaint                             2399\n",
      "New Ownership                         1914\n",
      "New Construction                       999\n",
      "Non-inspection site visit              847\n",
      "New Ownership - Followup               531\n",
      "Structural Inspection                  402\n",
      "Complaint Reinspection/Followup        232\n",
      "Foodborne Illness Investigation        203\n",
      "Routine - Scheduled                     74\n",
      "Special Event                            8\n",
      "Administrative or Document Review        4\n",
      "Multi-agency Investigation               3\n",
      "Community Health Assessment              1\n",
      "Name: count, dtype: int64\n"
     ]
    }
   ],
   "source": [
    "# Total number of rows for each inspection type\n",
    "inspection_type_counts = df['inspection_type'].value_counts()\n",
    "\n",
    "print(inspection_type_counts)"
   ]
  },
  {
   "cell_type": "code",
   "execution_count": 29,
   "metadata": {},
   "outputs": [
    {
     "name": "stdout",
     "output_type": "stream",
     "text": [
      "26663\n"
     ]
    }
   ],
   "source": [
    "# Total number of unique inspections\n",
    "total_inspections = df['inspection_id'].nunique()\n",
    "print(total_inspections)"
   ]
  },
  {
   "cell_type": "code",
   "execution_count": 28,
   "metadata": {},
   "outputs": [
    {
     "name": "stdout",
     "output_type": "stream",
     "text": [
      "inspection_type\n",
      "Routine - Unscheduled                14077\n",
      "Reinspection/Followup                 6439\n",
      "New Ownership                         1592\n",
      "Complaint                             1458\n",
      "New Construction                       994\n",
      "Non-inspection site visit              811\n",
      "New Ownership - Followup               499\n",
      "Structural Inspection                  394\n",
      "Complaint Reinspection/Followup        227\n",
      "Foodborne Illness Investigation        115\n",
      "Routine - Scheduled                     46\n",
      "Administrative or Document Review        4\n",
      "Multi-agency Investigation               3\n",
      "Special Event                            3\n",
      "Community Health Assessment              1\n",
      "Name: inspection_id, dtype: int64\n"
     ]
    }
   ],
   "source": [
    "# Total number of unique inspections per inspection type\n",
    "total_inspections_per_type = df.groupby('inspection_type')['inspection_id'].nunique()\n",
    "print(total_inspections_per_type.sort_values(ascending=False))"
   ]
  },
  {
   "cell_type": "code",
   "execution_count": null,
   "metadata": {},
   "outputs": [],
   "source": []
  }
 ],
 "metadata": {
  "kernelspec": {
   "display_name": "dev",
   "language": "python",
   "name": "python3"
  },
  "language_info": {
   "codemirror_mode": {
    "name": "ipython",
    "version": 3
   },
   "file_extension": ".py",
   "mimetype": "text/x-python",
   "name": "python",
   "nbconvert_exporter": "python",
   "pygments_lexer": "ipython3",
   "version": "3.12.4"
  }
 },
 "nbformat": 4,
 "nbformat_minor": 2
}
